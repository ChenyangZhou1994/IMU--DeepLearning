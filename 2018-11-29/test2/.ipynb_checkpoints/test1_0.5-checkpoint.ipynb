{
 "cells": [
  {
   "cell_type": "code",
   "execution_count": 1,
   "metadata": {},
   "outputs": [
    {
     "name": "stdout",
     "output_type": "stream",
     "text": [
      "TensorFlow version: 1.11.0\n"
     ]
    },
    {
     "name": "stderr",
     "output_type": "stream",
     "text": [
      "Using TensorFlow backend.\n"
     ]
    }
   ],
   "source": [
    "import tensorflow as tf\n",
    "print (\"TensorFlow version: \" + tf.__version__)\n",
    "import pandas as pd\n",
    "import matplotlib.pyplot as plt\n",
    "import numpy as np\n",
    "import seaborn as sns\n",
    "from keras.models import Sequential  \n",
    "from keras.layers import Dense, Activation, Conv2D  \n",
    "from keras.layers import MaxPool2D, Flatten, Dropout, ZeroPadding2D, BatchNormalization  \n",
    "from keras.utils import np_utils  \n",
    "from keras.models import save_model, load_model  \n",
    "from keras.models import Model\n",
    "np.random.seed(10)"
   ]
  },
  {
   "cell_type": "code",
   "execution_count": 2,
   "metadata": {},
   "outputs": [
    {
     "name": "stdout",
     "output_type": "stream",
     "text": [
      "dataset shape (1372, 5)\n"
     ]
    },
    {
     "data": {
      "text/html": [
       "<div>\n",
       "<style scoped>\n",
       "    .dataframe tbody tr th:only-of-type {\n",
       "        vertical-align: middle;\n",
       "    }\n",
       "\n",
       "    .dataframe tbody tr th {\n",
       "        vertical-align: top;\n",
       "    }\n",
       "\n",
       "    .dataframe thead th {\n",
       "        text-align: right;\n",
       "    }\n",
       "</style>\n",
       "<table border=\"1\" class=\"dataframe\">\n",
       "  <thead>\n",
       "    <tr style=\"text-align: right;\">\n",
       "      <th></th>\n",
       "      <th>0</th>\n",
       "      <th>1</th>\n",
       "      <th>2</th>\n",
       "      <th>3</th>\n",
       "      <th>4</th>\n",
       "    </tr>\n",
       "  </thead>\n",
       "  <tbody>\n",
       "    <tr>\n",
       "      <th>0</th>\n",
       "      <td>3.62160</td>\n",
       "      <td>8.6661</td>\n",
       "      <td>-2.8073</td>\n",
       "      <td>-0.44699</td>\n",
       "      <td>0</td>\n",
       "    </tr>\n",
       "    <tr>\n",
       "      <th>1</th>\n",
       "      <td>4.54590</td>\n",
       "      <td>8.1674</td>\n",
       "      <td>-2.4586</td>\n",
       "      <td>-1.46210</td>\n",
       "      <td>0</td>\n",
       "    </tr>\n",
       "    <tr>\n",
       "      <th>2</th>\n",
       "      <td>3.86600</td>\n",
       "      <td>-2.6383</td>\n",
       "      <td>1.9242</td>\n",
       "      <td>0.10645</td>\n",
       "      <td>0</td>\n",
       "    </tr>\n",
       "    <tr>\n",
       "      <th>3</th>\n",
       "      <td>3.45660</td>\n",
       "      <td>9.5228</td>\n",
       "      <td>-4.0112</td>\n",
       "      <td>-3.59440</td>\n",
       "      <td>0</td>\n",
       "    </tr>\n",
       "    <tr>\n",
       "      <th>4</th>\n",
       "      <td>0.32924</td>\n",
       "      <td>-4.4552</td>\n",
       "      <td>4.5718</td>\n",
       "      <td>-0.98880</td>\n",
       "      <td>0</td>\n",
       "    </tr>\n",
       "  </tbody>\n",
       "</table>\n",
       "</div>"
      ],
      "text/plain": [
       "         0       1       2        3  4\n",
       "0  3.62160  8.6661 -2.8073 -0.44699  0\n",
       "1  4.54590  8.1674 -2.4586 -1.46210  0\n",
       "2  3.86600 -2.6383  1.9242  0.10645  0\n",
       "3  3.45660  9.5228 -4.0112 -3.59440  0\n",
       "4  0.32924 -4.4552  4.5718 -0.98880  0"
      ]
     },
     "execution_count": 2,
     "metadata": {},
     "output_type": "execute_result"
    }
   ],
   "source": [
    "train = pd.read_table('data_banknote_authentication.txt', header=None, sep=',')\n",
    "print('dataset shape {}'.format(train.shape))\n",
    "train.head()"
   ]
  },
  {
   "cell_type": "code",
   "execution_count": 3,
   "metadata": {},
   "outputs": [
    {
     "name": "stdout",
     "output_type": "stream",
     "text": [
      "shape of X (1372, 4); shape of y (1372,)\n"
     ]
    },
    {
     "data": {
      "image/png": "[encoded data removed]",
      "text/plain": [
       "<Figure size 432x288 with 1 Axes>"
      ]
     },
     "metadata": {
      "needs_background": "light"
     },
     "output_type": "display_data"
    },
    {
     "name": "stdout",
     "output_type": "stream",
     "text": [
      "0    762\n",
      "1    610\n",
      "Name: 4, dtype: int64\n"
     ]
    }
   ],
   "source": [
    "X_train = train.iloc[:, 0:4]\n",
    "y_train = train.iloc[:, 4]\n",
    "print('shape of X {}; shape of y {}'.format(X_train.shape, y_train.shape))\n",
    "\n",
    "# 绘制计数直方图\n",
    "sns.countplot(y_train)\n",
    "plt.show()\n",
    "# 使用pd.Series.value_counts()\n",
    "print(y_train.value_counts())"
   ]
  },
  {
   "cell_type": "code",
   "execution_count": 4,
   "metadata": {},
   "outputs": [],
   "source": [
    "from sklearn.preprocessing import MinMaxScaler\n",
    "scaler = MinMaxScaler(feature_range=(-1,1))\n",
    "scaler.fit(X_train)\n",
    "X_train_scaled = scaler.transform(X_train)"
   ]
  },
  {
   "cell_type": "code",
   "execution_count": 5,
   "metadata": {},
   "outputs": [
    {
     "data": {
      "text/plain": [
       "(array([[ 0.53800777,  0.67928546, -0.78643462,  0.47325532],\n",
       "        [ 0.67131803,  0.64196418, -0.75639175,  0.28865126],\n",
       "        [ 0.57325718, -0.16670346, -0.3787839 ,  0.57390182],\n",
       "        [ 0.5142101 ,  0.74339843, -0.89015874, -0.09912073],\n",
       "        [ 0.06315615, -0.30267505, -0.15067525,  0.37472381]]), 0    0\n",
       " 1    0\n",
       " 2    0\n",
       " 3    0\n",
       " 4    0\n",
       " Name: 4, dtype: int64)"
      ]
     },
     "execution_count": 5,
     "metadata": {},
     "output_type": "execute_result"
    }
   ],
   "source": [
    "X_train_scaled[:5], y_train[:5]"
   ]
  },
  {
   "cell_type": "code",
   "execution_count": 6,
   "metadata": {},
   "outputs": [],
   "source": [
    "y_trainOneHot = np_utils.to_categorical(y_train)"
   ]
  },
  {
   "cell_type": "code",
   "execution_count": 7,
   "metadata": {},
   "outputs": [
    {
     "data": {
      "text/plain": [
       "array([[1., 0.],\n",
       "       [1., 0.],\n",
       "       [1., 0.],\n",
       "       [1., 0.],\n",
       "       [1., 0.]])"
      ]
     },
     "execution_count": 7,
     "metadata": {},
     "output_type": "execute_result"
    }
   ],
   "source": [
    "y_trainOneHot[:5]"
   ]
  },
  {
   "cell_type": "code",
   "execution_count": 8,
   "metadata": {},
   "outputs": [],
   "source": [
    "model = Sequential()"
   ]
  },
  {
   "cell_type": "code",
   "execution_count": 9,
   "metadata": {},
   "outputs": [],
   "source": [
    "model.add(Dense(units=50, input_dim=4, kernel_initializer='normal', activation='relu'))\n",
    "model.add(Dense(units=32, kernel_initializer='normal', activation='relu'))\n",
    "model.add(Dense(units=10, kernel_initializer='normal', activation='relu'))"
   ]
  },
  {
   "cell_type": "code",
   "execution_count": 10,
   "metadata": {},
   "outputs": [],
   "source": [
    "model.add(Dense(units=2, kernel_initializer='normal', activation='softmax'))"
   ]
  },
  {
   "cell_type": "code",
   "execution_count": 11,
   "metadata": {},
   "outputs": [
    {
     "name": "stdout",
     "output_type": "stream",
     "text": [
      "_________________________________________________________________\n",
      "Layer (type)                 Output Shape              Param #   \n",
      "=================================================================\n",
      "dense_1 (Dense)              (None, 50)                250       \n",
      "_________________________________________________________________\n",
      "dense_2 (Dense)              (None, 32)                1632      \n",
      "_________________________________________________________________\n",
      "dense_3 (Dense)              (None, 10)                330       \n",
      "_________________________________________________________________\n",
      "dense_4 (Dense)              (None, 2)                 22        \n",
      "=================================================================\n",
      "Total params: 2,234\n",
      "Trainable params: 2,234\n",
      "Non-trainable params: 0\n",
      "_________________________________________________________________\n",
      "None\n"
     ]
    }
   ],
   "source": [
    "print(model.summary())"
   ]
  },
  {
   "cell_type": "code",
   "execution_count": 12,
   "metadata": {},
   "outputs": [
    {
     "name": "stdout",
     "output_type": "stream",
     "text": [
      "WARNING:tensorflow:From /home/crius/.conda/envs/python36/lib/python3.6/site-packages/keras/backend/tensorflow_backend.py:2704: calling reduce_sum (from tensorflow.python.ops.math_ops) with keep_dims is deprecated and will be removed in a future version.\n",
      "Instructions for updating:\n",
      "keep_dims is deprecated, use keepdims instead\n",
      "WARNING:tensorflow:From /home/crius/.conda/envs/python36/lib/python3.6/site-packages/keras/backend/tensorflow_backend.py:1257: calling reduce_mean (from tensorflow.python.ops.math_ops) with keep_dims is deprecated and will be removed in a future version.\n",
      "Instructions for updating:\n",
      "keep_dims is deprecated, use keepdims instead\n"
     ]
    }
   ],
   "source": [
    "model.compile(loss='categorical_crossentropy', optimizer='adam', \n",
    "              metrics=['accuracy'])"
   ]
  },
  {
   "cell_type": "markdown",
   "metadata": {},
   "source": [
    "validation_split：0~1之间的浮点数，用来指定训练集的一定比例数据作为验证集。验证集将不参与训练，并在每个epoch结束后测试的模型的指标，如损失函数、精确度等。\n",
    "\n",
    "注意，validation_split的划分在shuffle之前，因此如果你的数据本身是有序的，需要先手工打乱再指定validation_split，否则可能会出现验证集样本不均匀。 "
   ]
  },
  {
   "cell_type": "code",
   "execution_count": 13,
   "metadata": {},
   "outputs": [
    {
     "name": "stdout",
     "output_type": "stream",
     "text": [
      "Train on 1097 samples, validate on 275 samples\n",
      "Epoch 1/50\n",
      "1s - loss: 0.5771 - acc: 0.7201 - val_loss: 0.7320 - val_acc: 0.6545\n",
      "Epoch 2/50\n",
      "0s - loss: 0.2059 - acc: 0.9289 - val_loss: 0.2036 - val_acc: 0.9127\n",
      "Epoch 3/50\n",
      "0s - loss: 0.0883 - acc: 0.9608 - val_loss: 0.0780 - val_acc: 0.9782\n",
      "Epoch 4/50\n",
      "0s - loss: 0.0469 - acc: 0.9818 - val_loss: 0.0269 - val_acc: 1.0000\n",
      "Epoch 5/50\n",
      "0s - loss: 0.0354 - acc: 0.9881 - val_loss: 0.0596 - val_acc: 0.9927\n",
      "Epoch 6/50\n",
      "0s - loss: 0.0344 - acc: 0.9872 - val_loss: 0.0116 - val_acc: 1.0000\n",
      "Epoch 7/50\n",
      "0s - loss: 0.0212 - acc: 0.9945 - val_loss: 0.0091 - val_acc: 1.0000\n",
      "Epoch 8/50\n",
      "0s - loss: 0.0168 - acc: 0.9982 - val_loss: 0.0095 - val_acc: 1.0000\n",
      "Epoch 9/50\n",
      "0s - loss: 0.0119 - acc: 0.9991 - val_loss: 0.0086 - val_acc: 1.0000\n",
      "Epoch 10/50\n",
      "0s - loss: 0.0107 - acc: 0.9991 - val_loss: 0.0092 - val_acc: 1.0000\n",
      "Epoch 11/50\n",
      "0s - loss: 0.0083 - acc: 1.0000 - val_loss: 0.0024 - val_acc: 1.0000\n",
      "Epoch 12/50\n",
      "0s - loss: 0.0068 - acc: 0.9991 - val_loss: 0.0081 - val_acc: 1.0000\n",
      "Epoch 13/50\n",
      "0s - loss: 0.0055 - acc: 1.0000 - val_loss: 0.0050 - val_acc: 1.0000\n",
      "Epoch 14/50\n",
      "0s - loss: 0.0038 - acc: 1.0000 - val_loss: 0.0036 - val_acc: 1.0000\n",
      "Epoch 15/50\n",
      "0s - loss: 0.0039 - acc: 1.0000 - val_loss: 0.0030 - val_acc: 1.0000\n",
      "Epoch 16/50\n",
      "0s - loss: 0.0031 - acc: 1.0000 - val_loss: 0.0035 - val_acc: 1.0000\n",
      "Epoch 17/50\n",
      "0s - loss: 0.0024 - acc: 1.0000 - val_loss: 0.0012 - val_acc: 1.0000\n",
      "Epoch 18/50\n",
      "0s - loss: 0.0025 - acc: 1.0000 - val_loss: 0.0013 - val_acc: 1.0000\n",
      "Epoch 19/50\n",
      "0s - loss: 0.0018 - acc: 1.0000 - val_loss: 7.9887e-04 - val_acc: 1.0000\n",
      "Epoch 20/50\n",
      "0s - loss: 0.0019 - acc: 1.0000 - val_loss: 0.0028 - val_acc: 1.0000\n",
      "Epoch 21/50\n",
      "0s - loss: 0.0015 - acc: 1.0000 - val_loss: 0.0013 - val_acc: 1.0000\n",
      "Epoch 22/50\n",
      "0s - loss: 9.4728e-04 - acc: 1.0000 - val_loss: 0.0017 - val_acc: 1.0000\n",
      "Epoch 23/50\n",
      "0s - loss: 8.8589e-04 - acc: 1.0000 - val_loss: 0.0022 - val_acc: 1.0000\n",
      "Epoch 24/50\n",
      "0s - loss: 8.2262e-04 - acc: 1.0000 - val_loss: 0.0018 - val_acc: 1.0000\n",
      "Epoch 25/50\n",
      "0s - loss: 6.6959e-04 - acc: 1.0000 - val_loss: 0.0010 - val_acc: 1.0000\n",
      "Epoch 26/50\n",
      "0s - loss: 6.1411e-04 - acc: 1.0000 - val_loss: 8.3589e-04 - val_acc: 1.0000\n",
      "Epoch 27/50\n",
      "0s - loss: 4.9825e-04 - acc: 1.0000 - val_loss: 0.0012 - val_acc: 1.0000\n",
      "Epoch 28/50\n",
      "0s - loss: 4.8481e-04 - acc: 1.0000 - val_loss: 6.9332e-04 - val_acc: 1.0000\n",
      "Epoch 29/50\n",
      "0s - loss: 3.7261e-04 - acc: 1.0000 - val_loss: 8.4861e-04 - val_acc: 1.0000\n",
      "Epoch 30/50\n",
      "0s - loss: 3.7261e-04 - acc: 1.0000 - val_loss: 3.9944e-04 - val_acc: 1.0000\n",
      "Epoch 31/50\n",
      "0s - loss: 3.8862e-04 - acc: 1.0000 - val_loss: 4.7064e-04 - val_acc: 1.0000\n",
      "Epoch 32/50\n",
      "0s - loss: 3.1985e-04 - acc: 1.0000 - val_loss: 9.3331e-04 - val_acc: 1.0000\n",
      "Epoch 33/50\n",
      "0s - loss: 2.9914e-04 - acc: 1.0000 - val_loss: 4.2260e-04 - val_acc: 1.0000\n",
      "Epoch 34/50\n",
      "0s - loss: 2.7571e-04 - acc: 1.0000 - val_loss: 0.0014 - val_acc: 1.0000\n",
      "Epoch 35/50\n",
      "0s - loss: 2.4825e-04 - acc: 1.0000 - val_loss: 6.6914e-04 - val_acc: 1.0000\n",
      "Epoch 36/50\n",
      "0s - loss: 2.0790e-04 - acc: 1.0000 - val_loss: 2.9530e-04 - val_acc: 1.0000\n",
      "Epoch 37/50\n",
      "0s - loss: 2.4971e-04 - acc: 1.0000 - val_loss: 0.0080 - val_acc: 0.9964\n",
      "Epoch 38/50\n",
      "0s - loss: 3.2084e-04 - acc: 1.0000 - val_loss: 4.5896e-04 - val_acc: 1.0000\n",
      "Epoch 39/50\n",
      "0s - loss: 1.6291e-04 - acc: 1.0000 - val_loss: 5.6199e-04 - val_acc: 1.0000\n",
      "Epoch 40/50\n",
      "0s - loss: 1.5052e-04 - acc: 1.0000 - val_loss: 9.9273e-04 - val_acc: 1.0000\n",
      "Epoch 41/50\n",
      "0s - loss: 1.4126e-04 - acc: 1.0000 - val_loss: 8.0280e-04 - val_acc: 1.0000\n",
      "Epoch 42/50\n",
      "0s - loss: 1.2560e-04 - acc: 1.0000 - val_loss: 6.0998e-04 - val_acc: 1.0000\n",
      "Epoch 43/50\n",
      "0s - loss: 1.2327e-04 - acc: 1.0000 - val_loss: 3.2539e-04 - val_acc: 1.0000\n",
      "Epoch 44/50\n",
      "0s - loss: 1.0290e-04 - acc: 1.0000 - val_loss: 2.9847e-04 - val_acc: 1.0000\n",
      "Epoch 45/50\n",
      "0s - loss: 9.2264e-05 - acc: 1.0000 - val_loss: 5.9461e-04 - val_acc: 1.0000\n",
      "Epoch 46/50\n",
      "0s - loss: 8.8574e-05 - acc: 1.0000 - val_loss: 3.4193e-04 - val_acc: 1.0000\n",
      "Epoch 47/50\n",
      "0s - loss: 8.1001e-05 - acc: 1.0000 - val_loss: 5.9561e-04 - val_acc: 1.0000\n",
      "Epoch 48/50\n",
      "0s - loss: 8.3930e-05 - acc: 1.0000 - val_loss: 3.4528e-04 - val_acc: 1.0000\n",
      "Epoch 49/50\n",
      "0s - loss: 9.6965e-05 - acc: 1.0000 - val_loss: 0.0015 - val_acc: 1.0000\n",
      "Epoch 50/50\n",
      "0s - loss: 9.2945e-05 - acc: 1.0000 - val_loss: 6.0768e-04 - val_acc: 1.0000\n"
     ]
    }
   ],
   "source": [
    "train_history = model.fit(x=X_train_scaled, y=y_trainOneHot, validation_split=0.5,\n",
    "                          epochs=50, batch_size=10, verbose=2)"
   ]
  },
  {
   "cell_type": "code",
   "execution_count": 14,
   "metadata": {},
   "outputs": [],
   "source": [
    "def show_train_history(train_history,train,validation):\n",
    "    plt.plot(train_history.history[train])\n",
    "    plt.plot(train_history.history[validation])\n",
    "    plt.title('Train History')\n",
    "    plt.ylabel(train)\n",
    "    plt.xlabel('Epoch')\n",
    "    plt.legend(['train', 'validation'], loc='upper left')\n",
    "    plt.show()"
   ]
  },
  {
   "cell_type": "code",
   "execution_count": 15,
   "metadata": {},
   "outputs": [
    {
     "data": {
      "image/png": "[encoded data removed]",
      "text/plain": [
       "<Figure size 432x288 with 1 Axes>"
      ]
     },
     "metadata": {
      "needs_background": "light"
     },
     "output_type": "display_data"
    }
   ],
   "source": [
    "show_train_history(train_history, 'acc', 'val_acc')"
   ]
  },
  {
   "cell_type": "code",
   "execution_count": 16,
   "metadata": {},
   "outputs": [
    {
     "data": {
      "image/png": "[encoded data removed]",
      "text/plain": [
       "<Figure size 432x288 with 1 Axes>"
      ]
     },
     "metadata": {
      "needs_background": "light"
     },
     "output_type": "display_data"
    }
   ],
   "source": [
    "show_train_history(train_history, 'loss', 'val_loss')"
   ]
  },
  {
   "cell_type": "code",
   "execution_count": 17,
   "metadata": {},
   "outputs": [
    {
     "name": "stdout",
     "output_type": "stream",
     "text": [
      "1216/1372 [=========================>....] - ETA: 0s\n",
      "accuracy= 1.0\n"
     ]
    }
   ],
   "source": [
    "scores = model.evaluate(X_train_scaled, y_trainOneHot)\n",
    "print()\n",
    "print('accuracy=',scores[1])"
   ]
  },
  {
   "cell_type": "code",
   "execution_count": null,
   "metadata": {},
   "outputs": [],
   "source": []
  },
  {
   "cell_type": "code",
   "execution_count": null,
   "metadata": {},
   "outputs": [],
   "source": []
  }
 ],
 "metadata": {
  "kernelspec": {
   "display_name": "Python 3",
   "language": "python",
   "name": "python3"
  },
  "language_info": {
   "codemirror_mode": {
    "name": "ipython",
    "version": 3
   },
   "file_extension": ".py",
   "mimetype": "text/x-python",
   "name": "python",
   "nbconvert_exporter": "python",
   "pygments_lexer": "ipython3",
   "version": "3.6.6"
  }
 },
 "nbformat": 4,
 "nbformat_minor": 2
}
