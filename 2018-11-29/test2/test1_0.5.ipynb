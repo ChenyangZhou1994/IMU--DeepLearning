{
 "cells": [
  {
   "cell_type": "code",
   "execution_count": 1,
   "metadata": {},
   "outputs": [
    {
     "name": "stdout",
     "output_type": "stream",
     "text": [
      "TensorFlow version: 1.11.0\n"
     ]
    },
    {
     "name": "stderr",
     "output_type": "stream",
     "text": [
      "Using TensorFlow backend.\n"
     ]
    }
   ],
   "source": [
    "import tensorflow as tf\n",
    "print (\"TensorFlow version: \" + tf.__version__)\n",
    "import pandas as pd\n",
    "import matplotlib.pyplot as plt\n",
    "import numpy as np\n",
    "import seaborn as sns\n",
    "from keras.models import Sequential  \n",
    "from keras.layers import Dense, Activation, Conv2D  \n",
    "from keras.layers import MaxPool2D, Flatten, Dropout, ZeroPadding2D, BatchNormalization  \n",
    "from keras.utils import np_utils  \n",
    "from keras.models import save_model, load_model  \n",
    "from keras.models import Model\n",
    "np.random.seed(10)"
   ]
  },
  {
   "cell_type": "code",
   "execution_count": 2,
   "metadata": {},
   "outputs": [
    {
     "name": "stdout",
     "output_type": "stream",
     "text": [
      "dataset shape (1372, 5)\n"
     ]
    },
    {
     "data": {
      "text/html": [
       "<div>\n",
       "<style scoped>\n",
       "    .dataframe tbody tr th:only-of-type {\n",
       "        vertical-align: middle;\n",
       "    }\n",
       "\n",
       "    .dataframe tbody tr th {\n",
       "        vertical-align: top;\n",
       "    }\n",
       "\n",
       "    .dataframe thead th {\n",
       "        text-align: right;\n",
       "    }\n",
       "</style>\n",
       "<table border=\"1\" class=\"dataframe\">\n",
       "  <thead>\n",
       "    <tr style=\"text-align: right;\">\n",
       "      <th></th>\n",
       "      <th>0</th>\n",
       "      <th>1</th>\n",
       "      <th>2</th>\n",
       "      <th>3</th>\n",
       "      <th>4</th>\n",
       "    </tr>\n",
       "  </thead>\n",
       "  <tbody>\n",
       "    <tr>\n",
       "      <th>0</th>\n",
       "      <td>3.62160</td>\n",
       "      <td>8.6661</td>\n",
       "      <td>-2.8073</td>\n",
       "      <td>-0.44699</td>\n",
       "      <td>0</td>\n",
       "    </tr>\n",
       "    <tr>\n",
       "      <th>1</th>\n",
       "      <td>4.54590</td>\n",
       "      <td>8.1674</td>\n",
       "      <td>-2.4586</td>\n",
       "      <td>-1.46210</td>\n",
       "      <td>0</td>\n",
       "    </tr>\n",
       "    <tr>\n",
       "      <th>2</th>\n",
       "      <td>3.86600</td>\n",
       "      <td>-2.6383</td>\n",
       "      <td>1.9242</td>\n",
       "      <td>0.10645</td>\n",
       "      <td>0</td>\n",
       "    </tr>\n",
       "    <tr>\n",
       "      <th>3</th>\n",
       "      <td>3.45660</td>\n",
       "      <td>9.5228</td>\n",
       "      <td>-4.0112</td>\n",
       "      <td>-3.59440</td>\n",
       "      <td>0</td>\n",
       "    </tr>\n",
       "    <tr>\n",
       "      <th>4</th>\n",
       "      <td>0.32924</td>\n",
       "      <td>-4.4552</td>\n",
       "      <td>4.5718</td>\n",
       "      <td>-0.98880</td>\n",
       "      <td>0</td>\n",
       "    </tr>\n",
       "  </tbody>\n",
       "</table>\n",
       "</div>"
      ],
      "text/plain": [
       "         0       1       2        3  4\n",
       "0  3.62160  8.6661 -2.8073 -0.44699  0\n",
       "1  4.54590  8.1674 -2.4586 -1.46210  0\n",
       "2  3.86600 -2.6383  1.9242  0.10645  0\n",
       "3  3.45660  9.5228 -4.0112 -3.59440  0\n",
       "4  0.32924 -4.4552  4.5718 -0.98880  0"
      ]
     },
     "execution_count": 2,
     "metadata": {},
     "output_type": "execute_result"
    }
   ],
   "source": [
    "train = pd.read_table('data_banknote_authentication.txt', header=None, sep=',')\n",
    "print('dataset shape {}'.format(train.shape))\n",
    "train.head()"
   ]
  },
  {
   "cell_type": "code",
   "execution_count": 3,
   "metadata": {},
   "outputs": [
    {
     "name": "stdout",
     "output_type": "stream",
     "text": [
      "shape of X (1372, 4); shape of y (1372,)\n"
     ]
    },
    {
     "data": {
      "image/png": "[encoded data removed]",
      "text/plain": [
       "<Figure size 432x288 with 1 Axes>"
      ]
     },
     "metadata": {
      "needs_background": "light"
     },
     "output_type": "display_data"
    },
    {
     "name": "stdout",
     "output_type": "stream",
     "text": [
      "0    762\n",
      "1    610\n",
      "Name: 4, dtype: int64\n"
     ]
    }
   ],
   "source": [
    "X_train = train.iloc[:, 0:4]\n",
    "y_train = train.iloc[:, 4]\n",
    "print('shape of X {}; shape of y {}'.format(X_train.shape, y_train.shape))\n",
    "\n",
    "# 绘制计数直方图\n",
    "sns.countplot(y_train)\n",
    "plt.show()\n",
    "# 使用pd.Series.value_counts()\n",
    "print(y_train.value_counts())"
   ]
  },
  {
   "cell_type": "code",
   "execution_count": 4,
   "metadata": {},
   "outputs": [],
   "source": [
    "from sklearn.preprocessing import MinMaxScaler\n",
    "scaler = MinMaxScaler(feature_range=(-1,1))\n",
    "scaler.fit(X_train)\n",
    "X_train_scaled = scaler.transform(X_train)"
   ]
  },
  {
   "cell_type": "code",
   "execution_count": 5,
   "metadata": {},
   "outputs": [
    {
     "data": {
      "text/plain": [
       "(array([[ 0.53800777,  0.67928546, -0.78643462,  0.47325532],\n",
       "        [ 0.67131803,  0.64196418, -0.75639175,  0.28865126],\n",
       "        [ 0.57325718, -0.16670346, -0.3787839 ,  0.57390182],\n",
       "        [ 0.5142101 ,  0.74339843, -0.89015874, -0.09912073],\n",
       "        [ 0.06315615, -0.30267505, -0.15067525,  0.37472381]]), 0    0\n",
       " 1    0\n",
       " 2    0\n",
       " 3    0\n",
       " 4    0\n",
       " Name: 4, dtype: int64)"
      ]
     },
     "execution_count": 5,
     "metadata": {},
     "output_type": "execute_result"
    }
   ],
   "source": [
    "X_train_scaled[:5], y_train[:5]"
   ]
  },
  {
   "cell_type": "code",
   "execution_count": 6,
   "metadata": {},
   "outputs": [],
   "source": [
    "y_trainOneHot = np_utils.to_categorical(y_train)"
   ]
  },
  {
   "cell_type": "code",
   "execution_count": 7,
   "metadata": {},
   "outputs": [
    {
     "data": {
      "text/plain": [
       "array([[1., 0.],\n",
       "       [1., 0.],\n",
       "       [1., 0.],\n",
       "       [1., 0.],\n",
       "       [1., 0.]])"
      ]
     },
     "execution_count": 7,
     "metadata": {},
     "output_type": "execute_result"
    }
   ],
   "source": [
    "y_trainOneHot[:5]"
   ]
  },
  {
   "cell_type": "code",
   "execution_count": 8,
   "metadata": {},
   "outputs": [],
   "source": [
    "model = Sequential()"
   ]
  },
  {
   "cell_type": "code",
   "execution_count": 9,
   "metadata": {},
   "outputs": [],
   "source": [
    "model.add(Dense(units=50, input_dim=4, kernel_initializer='normal', activation='relu'))\n",
    "model.add(Dense(units=32, kernel_initializer='normal', activation='relu'))\n",
    "model.add(Dense(units=10, kernel_initializer='normal', activation='relu'))"
   ]
  },
  {
   "cell_type": "code",
   "execution_count": 10,
   "metadata": {},
   "outputs": [],
   "source": [
    "model.add(Dense(units=2, kernel_initializer='normal', activation='softmax'))"
   ]
  },
  {
   "cell_type": "code",
   "execution_count": 11,
   "metadata": {},
   "outputs": [
    {
     "name": "stdout",
     "output_type": "stream",
     "text": [
      "_________________________________________________________________\n",
      "Layer (type)                 Output Shape              Param #   \n",
      "=================================================================\n",
      "dense_1 (Dense)              (None, 50)                250       \n",
      "_________________________________________________________________\n",
      "dense_2 (Dense)              (None, 32)                1632      \n",
      "_________________________________________________________________\n",
      "dense_3 (Dense)              (None, 10)                330       \n",
      "_________________________________________________________________\n",
      "dense_4 (Dense)              (None, 2)                 22        \n",
      "=================================================================\n",
      "Total params: 2,234\n",
      "Trainable params: 2,234\n",
      "Non-trainable params: 0\n",
      "_________________________________________________________________\n",
      "None\n"
     ]
    }
   ],
   "source": [
    "print(model.summary())"
   ]
  },
  {
   "cell_type": "code",
   "execution_count": 12,
   "metadata": {},
   "outputs": [
    {
     "name": "stdout",
     "output_type": "stream",
     "text": [
      "WARNING:tensorflow:From /home/crius/.conda/envs/python36/lib/python3.6/site-packages/keras/backend/tensorflow_backend.py:2704: calling reduce_sum (from tensorflow.python.ops.math_ops) with keep_dims is deprecated and will be removed in a future version.\n",
      "Instructions for updating:\n",
      "keep_dims is deprecated, use keepdims instead\n",
      "WARNING:tensorflow:From /home/crius/.conda/envs/python36/lib/python3.6/site-packages/keras/backend/tensorflow_backend.py:1257: calling reduce_mean (from tensorflow.python.ops.math_ops) with keep_dims is deprecated and will be removed in a future version.\n",
      "Instructions for updating:\n",
      "keep_dims is deprecated, use keepdims instead\n"
     ]
    }
   ],
   "source": [
    "model.compile(loss='categorical_crossentropy', optimizer='adam', \n",
    "              metrics=['accuracy'])"
   ]
  },
  {
   "cell_type": "markdown",
   "metadata": {},
   "source": [
    "validation_split：0~1之间的浮点数，用来指定训练集的一定比例数据作为验证集。验证集将不参与训练，并在每个epoch结束后测试的模型的指标，如损失函数、精确度等。\n",
    "\n",
    "注意，validation_split的划分在shuffle之前，因此如果你的数据本身是有序的，需要先手工打乱再指定validation_split，否则可能会出现验证集样本不均匀。 "
   ]
  },
  {
   "cell_type": "code",
   "execution_count": 13,
   "metadata": {},
   "outputs": [
    {
     "name": "stdout",
     "output_type": "stream",
     "text": [
      "Train on 686 samples, validate on 686 samples\n",
      "Epoch 1/50\n",
      "1s - loss: 0.5476 - acc: 1.0000 - val_loss: 1.3318 - val_acc: 0.1108\n",
      "Epoch 2/50\n",
      "0s - loss: 0.0307 - acc: 1.0000 - val_loss: 3.8819 - val_acc: 0.1108\n",
      "Epoch 3/50\n",
      "0s - loss: 0.0027 - acc: 1.0000 - val_loss: 4.6716 - val_acc: 0.1108\n",
      "Epoch 4/50\n",
      "0s - loss: 0.0012 - acc: 1.0000 - val_loss: 5.2193 - val_acc: 0.1108\n",
      "Epoch 5/50\n",
      "0s - loss: 7.2826e-04 - acc: 1.0000 - val_loss: 5.6701 - val_acc: 0.1108\n",
      "Epoch 6/50\n",
      "0s - loss: 4.7651e-04 - acc: 1.0000 - val_loss: 6.0435 - val_acc: 0.1108\n",
      "Epoch 7/50\n",
      "0s - loss: 3.3359e-04 - acc: 1.0000 - val_loss: 6.3375 - val_acc: 0.1108\n",
      "Epoch 8/50\n",
      "0s - loss: 2.4710e-04 - acc: 1.0000 - val_loss: 6.6130 - val_acc: 0.1108\n",
      "Epoch 9/50\n",
      "0s - loss: 1.8885e-04 - acc: 1.0000 - val_loss: 6.8523 - val_acc: 0.1108\n",
      "Epoch 10/50\n",
      "0s - loss: 1.4942e-04 - acc: 1.0000 - val_loss: 7.0785 - val_acc: 0.1108\n",
      "Epoch 11/50\n",
      "0s - loss: 1.2069e-04 - acc: 1.0000 - val_loss: 7.2814 - val_acc: 0.1108\n",
      "Epoch 12/50\n",
      "0s - loss: 9.8613e-05 - acc: 1.0000 - val_loss: 7.4527 - val_acc: 0.1108\n",
      "Epoch 13/50\n",
      "0s - loss: 8.2618e-05 - acc: 1.0000 - val_loss: 7.6329 - val_acc: 0.1108\n",
      "Epoch 14/50\n",
      "0s - loss: 6.9425e-05 - acc: 1.0000 - val_loss: 7.7857 - val_acc: 0.1108\n",
      "Epoch 15/50\n",
      "0s - loss: 5.9293e-05 - acc: 1.0000 - val_loss: 7.9289 - val_acc: 0.1108\n",
      "Epoch 16/50\n",
      "0s - loss: 5.1178e-05 - acc: 1.0000 - val_loss: 8.0761 - val_acc: 0.1108\n",
      "Epoch 17/50\n",
      "0s - loss: 4.4444e-05 - acc: 1.0000 - val_loss: 8.2113 - val_acc: 0.1108\n",
      "Epoch 18/50\n",
      "0s - loss: 3.8920e-05 - acc: 1.0000 - val_loss: 8.3369 - val_acc: 0.1108\n",
      "Epoch 19/50\n",
      "0s - loss: 3.4286e-05 - acc: 1.0000 - val_loss: 8.4562 - val_acc: 0.1108\n",
      "Epoch 20/50\n",
      "0s - loss: 3.0351e-05 - acc: 1.0000 - val_loss: 8.5701 - val_acc: 0.1108\n",
      "Epoch 21/50\n",
      "0s - loss: 2.7035e-05 - acc: 1.0000 - val_loss: 8.6792 - val_acc: 0.1108\n",
      "Epoch 22/50\n",
      "0s - loss: 2.4176e-05 - acc: 1.0000 - val_loss: 8.7867 - val_acc: 0.1108\n",
      "Epoch 23/50\n",
      "0s - loss: 2.1689e-05 - acc: 1.0000 - val_loss: 8.8915 - val_acc: 0.1108\n",
      "Epoch 24/50\n",
      "0s - loss: 1.9582e-05 - acc: 1.0000 - val_loss: 8.9882 - val_acc: 0.1108\n",
      "Epoch 25/50\n",
      "0s - loss: 1.7746e-05 - acc: 1.0000 - val_loss: 9.0805 - val_acc: 0.1108\n",
      "Epoch 26/50\n",
      "0s - loss: 1.6130e-05 - acc: 1.0000 - val_loss: 9.1777 - val_acc: 0.1108\n",
      "Epoch 27/50\n",
      "0s - loss: 1.4681e-05 - acc: 1.0000 - val_loss: 9.2675 - val_acc: 0.1108\n",
      "Epoch 28/50\n",
      "0s - loss: 1.3403e-05 - acc: 1.0000 - val_loss: 9.3477 - val_acc: 0.1108\n",
      "Epoch 29/50\n",
      "0s - loss: 1.2275e-05 - acc: 1.0000 - val_loss: 9.4303 - val_acc: 0.1108\n",
      "Epoch 30/50\n",
      "0s - loss: 1.1264e-05 - acc: 1.0000 - val_loss: 9.5129 - val_acc: 0.1108\n",
      "Epoch 31/50\n",
      "0s - loss: 1.0323e-05 - acc: 1.0000 - val_loss: 9.5924 - val_acc: 0.1108\n",
      "Epoch 32/50\n",
      "0s - loss: 9.4625e-06 - acc: 1.0000 - val_loss: 9.6795 - val_acc: 0.1108\n",
      "Epoch 33/50\n",
      "0s - loss: 8.4870e-06 - acc: 1.0000 - val_loss: 9.7892 - val_acc: 0.1108\n",
      "Epoch 34/50\n",
      "0s - loss: 7.2662e-06 - acc: 1.0000 - val_loss: 9.9811 - val_acc: 0.1108\n",
      "Epoch 35/50\n",
      "0s - loss: 5.7812e-06 - acc: 1.0000 - val_loss: 10.2359 - val_acc: 0.1108\n",
      "Epoch 36/50\n",
      "0s - loss: 4.4168e-06 - acc: 1.0000 - val_loss: 10.5062 - val_acc: 0.1108\n",
      "Epoch 37/50\n",
      "0s - loss: 3.2910e-06 - acc: 1.0000 - val_loss: 10.7524 - val_acc: 0.1108\n",
      "Epoch 38/50\n",
      "0s - loss: 2.5130e-06 - acc: 1.0000 - val_loss: 10.9875 - val_acc: 0.1108\n",
      "Epoch 39/50\n",
      "0s - loss: 1.9498e-06 - acc: 1.0000 - val_loss: 11.1714 - val_acc: 0.1108\n",
      "Epoch 40/50\n",
      "0s - loss: 1.5481e-06 - acc: 1.0000 - val_loss: 11.3240 - val_acc: 0.1108\n",
      "Epoch 41/50\n",
      "0s - loss: 1.2713e-06 - acc: 1.0000 - val_loss: 11.4864 - val_acc: 0.1108\n",
      "Epoch 42/50\n",
      "0s - loss: 1.0547e-06 - acc: 1.0000 - val_loss: 11.6009 - val_acc: 0.1108\n",
      "Epoch 43/50\n",
      "0s - loss: 8.9904e-07 - acc: 1.0000 - val_loss: 11.7109 - val_acc: 0.1108\n",
      "Epoch 44/50\n",
      "0s - loss: 7.7844e-07 - acc: 1.0000 - val_loss: 11.8022 - val_acc: 0.1108\n",
      "Epoch 45/50\n",
      "0s - loss: 6.8034e-07 - acc: 1.0000 - val_loss: 11.8848 - val_acc: 0.1108\n",
      "Epoch 46/50\n",
      "0s - loss: 6.0292e-07 - acc: 1.0000 - val_loss: 11.9444 - val_acc: 0.1108\n",
      "Epoch 47/50\n",
      "0s - loss: 5.4053e-07 - acc: 1.0000 - val_loss: 12.0140 - val_acc: 0.1108\n",
      "Epoch 48/50\n",
      "0s - loss: 4.8805e-07 - acc: 1.0000 - val_loss: 12.0690 - val_acc: 0.1108\n",
      "Epoch 49/50\n",
      "0s - loss: 4.4452e-07 - acc: 1.0000 - val_loss: 12.1116 - val_acc: 0.1108\n",
      "Epoch 50/50\n",
      "0s - loss: 4.0959e-07 - acc: 1.0000 - val_loss: 12.1660 - val_acc: 0.1108\n"
     ]
    }
   ],
   "source": [
    "train_history = model.fit(x=X_train_scaled, y=y_trainOneHot, validation_split=0.5,\n",
    "                          epochs=50, batch_size=10, verbose=2)"
   ]
  },
  {
   "cell_type": "code",
   "execution_count": 14,
   "metadata": {},
   "outputs": [],
   "source": [
    "def show_train_history(train_history,train,validation):\n",
    "    plt.plot(train_history.history[train])\n",
    "    plt.plot(train_history.history[validation])\n",
    "    plt.title('Train History')\n",
    "    plt.ylabel(train)\n",
    "    plt.xlabel('Epoch')\n",
    "    plt.legend(['train', 'validation'], loc='upper left')\n",
    "    plt.show()"
   ]
  },
  {
   "cell_type": "code",
   "execution_count": 15,
   "metadata": {},
   "outputs": [
    {
     "data": {
      "image/png": "[encoded data removed]",
      "text/plain": [
       "<Figure size 432x288 with 1 Axes>"
      ]
     },
     "metadata": {
      "needs_background": "light"
     },
     "output_type": "display_data"
    }
   ],
   "source": [
    "show_train_history(train_history, 'acc', 'val_acc')"
   ]
  },
  {
   "cell_type": "code",
   "execution_count": 16,
   "metadata": {},
   "outputs": [
    {
     "data": {
      "image/png": "[encoded data removed]",
      "text/plain": [
       "<Figure size 432x288 with 1 Axes>"
      ]
     },
     "metadata": {
      "needs_background": "light"
     },
     "output_type": "display_data"
    }
   ],
   "source": [
    "show_train_history(train_history, 'loss', 'val_loss')"
   ]
  },
  {
   "cell_type": "code",
   "execution_count": 17,
   "metadata": {},
   "outputs": [
    {
     "name": "stdout",
     "output_type": "stream",
     "text": [
      " 768/1372 [===============>..............] - ETA: 0s\n",
      "accuracy= 0.5553935860058309\n"
     ]
    }
   ],
   "source": [
    "scores = model.evaluate(X_train_scaled, y_trainOneHot)\n",
    "print()\n",
    "print('accuracy=',scores[1])"
   ]
  },
  {
   "cell_type": "code",
   "execution_count": null,
   "metadata": {},
   "outputs": [],
   "source": []
  },
  {
   "cell_type": "code",
   "execution_count": null,
   "metadata": {},
   "outputs": [],
   "source": []
  }
 ],
 "metadata": {
  "kernelspec": {
   "display_name": "Python 3",
   "language": "python",
   "name": "python3"
  },
  "language_info": {
   "codemirror_mode": {
    "name": "ipython",
    "version": 3
   },
   "file_extension": ".py",
   "mimetype": "text/x-python",
   "name": "python",
   "nbconvert_exporter": "python",
   "pygments_lexer": "ipython3",
   "version": "3.6.6"
  }
 },
 "nbformat": 4,
 "nbformat_minor": 2
}
