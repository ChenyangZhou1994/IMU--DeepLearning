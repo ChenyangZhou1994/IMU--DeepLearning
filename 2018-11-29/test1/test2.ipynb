{
 "cells": [
  {
   "cell_type": "code",
   "execution_count": 1,
   "metadata": {},
   "outputs": [
    {
     "name": "stdout",
     "output_type": "stream",
     "text": [
      "TensorFlow version: 1.11.0\n"
     ]
    },
    {
     "name": "stderr",
     "output_type": "stream",
     "text": [
      "Using TensorFlow backend.\n"
     ]
    }
   ],
   "source": [
    "import tensorflow as tf\n",
    "print (\"TensorFlow version: \" + tf.__version__)\n",
    "import pandas as pd\n",
    "import matplotlib.pyplot as plt\n",
    "import numpy as np\n",
    "import seaborn as sns\n",
    "from keras.models import Sequential  \n",
    "from keras.layers import Dense, Activation, Conv2D  \n",
    "from keras.layers import MaxPool2D, Flatten, Dropout, ZeroPadding2D, BatchNormalization  \n",
    "from keras.utils import np_utils  \n",
    "import keras\n",
    "from keras.models import save_model, load_model  \n",
    "from keras.models import Model\n",
    "np.random.seed(10)"
   ]
  },
  {
   "cell_type": "code",
   "execution_count": 2,
   "metadata": {},
   "outputs": [
    {
     "name": "stdout",
     "output_type": "stream",
     "text": [
      "dataset shape (8121, 19)\n"
     ]
    },
    {
     "data": {
      "text/html": [
       "<div>\n",
       "<style scoped>\n",
       "    .dataframe tbody tr th:only-of-type {\n",
       "        vertical-align: middle;\n",
       "    }\n",
       "\n",
       "    .dataframe tbody tr th {\n",
       "        vertical-align: top;\n",
       "    }\n",
       "\n",
       "    .dataframe thead th {\n",
       "        text-align: right;\n",
       "    }\n",
       "</style>\n",
       "<table border=\"1\" class=\"dataframe\">\n",
       "  <thead>\n",
       "    <tr style=\"text-align: right;\">\n",
       "      <th></th>\n",
       "      <th>0</th>\n",
       "      <th>1</th>\n",
       "      <th>2</th>\n",
       "      <th>3</th>\n",
       "      <th>4</th>\n",
       "      <th>5</th>\n",
       "      <th>6</th>\n",
       "      <th>7</th>\n",
       "      <th>8</th>\n",
       "      <th>9</th>\n",
       "      <th>10</th>\n",
       "      <th>11</th>\n",
       "      <th>12</th>\n",
       "      <th>13</th>\n",
       "      <th>14</th>\n",
       "      <th>15</th>\n",
       "      <th>16</th>\n",
       "      <th>17</th>\n",
       "      <th>18</th>\n",
       "    </tr>\n",
       "  </thead>\n",
       "  <tbody>\n",
       "    <tr>\n",
       "      <th>0</th>\n",
       "      <td>5.347435</td>\n",
       "      <td>4.363681</td>\n",
       "      <td>1.501913</td>\n",
       "      <td>5.258967</td>\n",
       "      <td>4.319263</td>\n",
       "      <td>1.488703</td>\n",
       "      <td>5.037871</td>\n",
       "      <td>1.618295</td>\n",
       "      <td>1.778350</td>\n",
       "      <td>5.062803</td>\n",
       "      <td>4.229656</td>\n",
       "      <td>1.772577</td>\n",
       "      <td>4.972902</td>\n",
       "      <td>4.301065</td>\n",
       "      <td>1.564781</td>\n",
       "      <td>5.553945</td>\n",
       "      <td>4.370456</td>\n",
       "      <td>1.553521</td>\n",
       "      <td>1</td>\n",
       "    </tr>\n",
       "    <tr>\n",
       "      <th>1</th>\n",
       "      <td>4.869622</td>\n",
       "      <td>4.254210</td>\n",
       "      <td>1.556133</td>\n",
       "      <td>5.240113</td>\n",
       "      <td>4.346338</td>\n",
       "      <td>1.554309</td>\n",
       "      <td>5.037610</td>\n",
       "      <td>1.618370</td>\n",
       "      <td>1.778573</td>\n",
       "      <td>5.061430</td>\n",
       "      <td>4.228504</td>\n",
       "      <td>1.772859</td>\n",
       "      <td>4.974908</td>\n",
       "      <td>4.303656</td>\n",
       "      <td>1.565527</td>\n",
       "      <td>5.423875</td>\n",
       "      <td>4.303708</td>\n",
       "      <td>1.569942</td>\n",
       "      <td>1</td>\n",
       "    </tr>\n",
       "    <tr>\n",
       "      <th>2</th>\n",
       "      <td>5.357447</td>\n",
       "      <td>4.364039</td>\n",
       "      <td>1.500969</td>\n",
       "      <td>5.238928</td>\n",
       "      <td>4.347924</td>\n",
       "      <td>1.554150</td>\n",
       "      <td>5.037514</td>\n",
       "      <td>1.618298</td>\n",
       "      <td>1.778774</td>\n",
       "      <td>5.059245</td>\n",
       "      <td>4.228004</td>\n",
       "      <td>1.773568</td>\n",
       "      <td>4.981612</td>\n",
       "      <td>4.305363</td>\n",
       "      <td>1.563643</td>\n",
       "      <td>5.332170</td>\n",
       "      <td>4.438061</td>\n",
       "      <td>1.572841</td>\n",
       "      <td>1</td>\n",
       "    </tr>\n",
       "    <tr>\n",
       "      <th>3</th>\n",
       "      <td>4.942886</td>\n",
       "      <td>4.281878</td>\n",
       "      <td>1.546513</td>\n",
       "      <td>5.111436</td>\n",
       "      <td>4.229660</td>\n",
       "      <td>1.527091</td>\n",
       "      <td>5.037526</td>\n",
       "      <td>1.618612</td>\n",
       "      <td>1.778855</td>\n",
       "      <td>5.056475</td>\n",
       "      <td>4.226891</td>\n",
       "      <td>1.774519</td>\n",
       "      <td>4.987158</td>\n",
       "      <td>4.304063</td>\n",
       "      <td>1.565929</td>\n",
       "      <td>5.311104</td>\n",
       "      <td>4.396774</td>\n",
       "      <td>1.566368</td>\n",
       "      <td>1</td>\n",
       "    </tr>\n",
       "    <tr>\n",
       "      <th>4</th>\n",
       "      <td>5.003160</td>\n",
       "      <td>4.278530</td>\n",
       "      <td>1.542866</td>\n",
       "      <td>4.985812</td>\n",
       "      <td>4.182155</td>\n",
       "      <td>1.520330</td>\n",
       "      <td>5.037557</td>\n",
       "      <td>1.619226</td>\n",
       "      <td>1.778925</td>\n",
       "      <td>5.052367</td>\n",
       "      <td>4.225485</td>\n",
       "      <td>1.775536</td>\n",
       "      <td>4.983912</td>\n",
       "      <td>4.296833</td>\n",
       "      <td>1.569889</td>\n",
       "      <td>5.193762</td>\n",
       "      <td>4.335417</td>\n",
       "      <td>1.560144</td>\n",
       "      <td>1</td>\n",
       "    </tr>\n",
       "  </tbody>\n",
       "</table>\n",
       "</div>"
      ],
      "text/plain": [
       "         0         1         2         3         4         5         6   \\\n",
       "0  5.347435  4.363681  1.501913  5.258967  4.319263  1.488703  5.037871   \n",
       "1  4.869622  4.254210  1.556133  5.240113  4.346338  1.554309  5.037610   \n",
       "2  5.357447  4.364039  1.500969  5.238928  4.347924  1.554150  5.037514   \n",
       "3  4.942886  4.281878  1.546513  5.111436  4.229660  1.527091  5.037526   \n",
       "4  5.003160  4.278530  1.542866  4.985812  4.182155  1.520330  5.037557   \n",
       "\n",
       "         7         8         9         10        11        12        13  \\\n",
       "0  1.618295  1.778350  5.062803  4.229656  1.772577  4.972902  4.301065   \n",
       "1  1.618370  1.778573  5.061430  4.228504  1.772859  4.974908  4.303656   \n",
       "2  1.618298  1.778774  5.059245  4.228004  1.773568  4.981612  4.305363   \n",
       "3  1.618612  1.778855  5.056475  4.226891  1.774519  4.987158  4.304063   \n",
       "4  1.619226  1.778925  5.052367  4.225485  1.775536  4.983912  4.296833   \n",
       "\n",
       "         14        15        16        17  18  \n",
       "0  1.564781  5.553945  4.370456  1.553521   1  \n",
       "1  1.565527  5.423875  4.303708  1.569942   1  \n",
       "2  1.563643  5.332170  4.438061  1.572841   1  \n",
       "3  1.565929  5.311104  4.396774  1.566368   1  \n",
       "4  1.569889  5.193762  4.335417  1.560144   1  "
      ]
     },
     "execution_count": 2,
     "metadata": {},
     "output_type": "execute_result"
    }
   ],
   "source": [
    "train = pd.read_csv('training_set.csv', header=None, sep=',')\n",
    "print('dataset shape {}'.format(train.shape))\n",
    "train.head()"
   ]
  },
  {
   "cell_type": "code",
   "execution_count": 3,
   "metadata": {},
   "outputs": [
    {
     "name": "stdout",
     "output_type": "stream",
     "text": [
      "shape of X (8121, 18); shape of y (8121,)\n"
     ]
    },
    {
     "data": {
      "image/png": "[encoded data removed]",
      "text/plain": [
       "<Figure size 432x288 with 1 Axes>"
      ]
     },
     "metadata": {
      "needs_background": "light"
     },
     "output_type": "display_data"
    },
    {
     "name": "stdout",
     "output_type": "stream",
     "text": [
      "3    2415\n",
      "1    2106\n",
      "2    1817\n",
      "4     904\n",
      "5     879\n",
      "Name: 18, dtype: int64\n"
     ]
    }
   ],
   "source": [
    "X_train = train.iloc[:, 0:18]\n",
    "y_train = train.iloc[:, 18]\n",
    "print('shape of X {}; shape of y {}'.format(X_train.shape, y_train.shape))\n",
    "\n",
    "# 绘制计数直方图\n",
    "sns.countplot(y_train)\n",
    "plt.show()\n",
    "# 使用pd.Series.value_counts()\n",
    "print(y_train.value_counts())"
   ]
  },
  {
   "cell_type": "code",
   "execution_count": 4,
   "metadata": {},
   "outputs": [],
   "source": [
    "from sklearn.preprocessing import MinMaxScaler\n",
    "scaler = MinMaxScaler(feature_range=(-1,1))\n",
    "scaler.fit(X_train)\n",
    "X_train_scaled = scaler.transform(X_train)"
   ]
  },
  {
   "cell_type": "code",
   "execution_count": 5,
   "metadata": {
    "scrolled": true
   },
   "outputs": [
    {
     "data": {
      "text/plain": [
       "(array([[ 0.66344395,  0.23293556, -0.63988571,  0.0133496 ,  0.32715843,\n",
       "         -0.6083054 ,  0.39542515, -0.68226809, -0.61106817,  0.48562327,\n",
       "         -0.30825689, -0.85456673,  0.63300726,  0.26075035, -0.62375517,\n",
       "          0.10890193,  0.41065869, -0.56213672],\n",
       "        [ 0.51480911,  0.18300911, -0.57860515,  0.00769185,  0.33685623,\n",
       "         -0.52972621,  0.39530096, -0.68222755, -0.61069785,  0.48487524,\n",
       "         -0.31025339, -0.85403441,  0.63367011,  0.26214159, -0.6228765 ,\n",
       "          0.06616585,  0.38347532, -0.5413967 ],\n",
       "        [ 0.66655841,  0.23309884, -0.64095264,  0.00733625,  0.3374243 ,\n",
       "         -0.52991665,  0.39525528, -0.68226647, -0.61036408,  0.48368482,\n",
       "         -0.31111993, -0.85269606,  0.63588532,  0.26305816, -0.62509555,\n",
       "          0.03603506,  0.43819108, -0.53773521],\n",
       "        [ 0.53759958,  0.19562766, -0.58947787, -0.0309218 ,  0.29506421,\n",
       "         -0.5623264 ,  0.39526099, -0.68209674, -0.61022957,  0.48217568,\n",
       "         -0.31304884, -0.85090089,  0.6377179 ,  0.26236013, -0.62240301,\n",
       "          0.02911357,  0.42137679, -0.54591072],\n",
       "        [ 0.55634921,  0.19410073, -0.59359979, -0.0686193 ,  0.27804874,\n",
       "         -0.57042435,  0.39527574, -0.68176484, -0.61011333,  0.47993758,\n",
       "         -0.31548555, -0.84898113,  0.63664532,  0.25847798, -0.61773876,\n",
       "         -0.00944058,  0.39638893, -0.55377175]]), 0    1\n",
       " 1    1\n",
       " 2    1\n",
       " 3    1\n",
       " 4    1\n",
       " 5    1\n",
       " 6    1\n",
       " 7    1\n",
       " 8    1\n",
       " 9    1\n",
       " Name: 18, dtype: int64)"
      ]
     },
     "execution_count": 5,
     "metadata": {},
     "output_type": "execute_result"
    }
   ],
   "source": [
    "X_train_scaled[:5], y_train[:10]"
   ]
  },
  {
   "cell_type": "code",
   "execution_count": 6,
   "metadata": {},
   "outputs": [],
   "source": [
    "y_trainOneHot = np_utils.to_categorical(y_train)"
   ]
  },
  {
   "cell_type": "code",
   "execution_count": 7,
   "metadata": {
    "scrolled": true
   },
   "outputs": [
    {
     "data": {
      "text/plain": [
       "array([[0., 1., 0., 0., 0., 0.],\n",
       "       [0., 1., 0., 0., 0., 0.],\n",
       "       [0., 1., 0., 0., 0., 0.],\n",
       "       [0., 1., 0., 0., 0., 0.],\n",
       "       [0., 1., 0., 0., 0., 0.],\n",
       "       [0., 1., 0., 0., 0., 0.],\n",
       "       [0., 1., 0., 0., 0., 0.],\n",
       "       [0., 1., 0., 0., 0., 0.],\n",
       "       [0., 1., 0., 0., 0., 0.],\n",
       "       [0., 1., 0., 0., 0., 0.],\n",
       "       [0., 1., 0., 0., 0., 0.],\n",
       "       [0., 1., 0., 0., 0., 0.],\n",
       "       [0., 1., 0., 0., 0., 0.],\n",
       "       [0., 1., 0., 0., 0., 0.],\n",
       "       [0., 1., 0., 0., 0., 0.]])"
      ]
     },
     "execution_count": 7,
     "metadata": {},
     "output_type": "execute_result"
    }
   ],
   "source": [
    "y_trainOneHot[:15]"
   ]
  },
  {
   "cell_type": "code",
   "execution_count": 8,
   "metadata": {},
   "outputs": [],
   "source": [
    "model = Sequential()"
   ]
  },
  {
   "cell_type": "code",
   "execution_count": 9,
   "metadata": {},
   "outputs": [],
   "source": [
    "model.add(Dense(units=50, input_dim=18, kernel_initializer='normal', activation='relu'))\n",
    "model.add(Dense(units=18, kernel_initializer='normal', activation='relu'))\n",
    "model.add(Dense(units=12, kernel_initializer='normal', activation='relu'))"
   ]
  },
  {
   "cell_type": "code",
   "execution_count": 10,
   "metadata": {},
   "outputs": [],
   "source": [
    "model.add(Dense(units=6, kernel_initializer='normal', activation='softmax'))"
   ]
  },
  {
   "cell_type": "code",
   "execution_count": 11,
   "metadata": {},
   "outputs": [
    {
     "name": "stdout",
     "output_type": "stream",
     "text": [
      "_________________________________________________________________\n",
      "Layer (type)                 Output Shape              Param #   \n",
      "=================================================================\n",
      "dense_1 (Dense)              (None, 50)                950       \n",
      "_________________________________________________________________\n",
      "dense_2 (Dense)              (None, 18)                918       \n",
      "_________________________________________________________________\n",
      "dense_3 (Dense)              (None, 12)                228       \n",
      "_________________________________________________________________\n",
      "dense_4 (Dense)              (None, 6)                 78        \n",
      "=================================================================\n",
      "Total params: 2,174\n",
      "Trainable params: 2,174\n",
      "Non-trainable params: 0\n",
      "_________________________________________________________________\n",
      "None\n"
     ]
    }
   ],
   "source": [
    "print(model.summary())"
   ]
  },
  {
   "cell_type": "code",
   "execution_count": 12,
   "metadata": {
    "scrolled": true
   },
   "outputs": [
    {
     "name": "stdout",
     "output_type": "stream",
     "text": [
      "WARNING:tensorflow:From /home/crius/.conda/envs/python36/lib/python3.6/site-packages/keras/backend/tensorflow_backend.py:2704: calling reduce_sum (from tensorflow.python.ops.math_ops) with keep_dims is deprecated and will be removed in a future version.\n",
      "Instructions for updating:\n",
      "keep_dims is deprecated, use keepdims instead\n",
      "WARNING:tensorflow:From /home/crius/.conda/envs/python36/lib/python3.6/site-packages/keras/backend/tensorflow_backend.py:1257: calling reduce_mean (from tensorflow.python.ops.math_ops) with keep_dims is deprecated and will be removed in a future version.\n",
      "Instructions for updating:\n",
      "keep_dims is deprecated, use keepdims instead\n"
     ]
    }
   ],
   "source": [
    "model.compile(loss='categorical_crossentropy', optimizer='adam', \n",
    "              metrics=['accuracy'])"
   ]
  },
  {
   "cell_type": "code",
   "execution_count": 13,
   "metadata": {
    "scrolled": false
   },
   "outputs": [
    {
     "name": "stdout",
     "output_type": "stream",
     "text": [
      "Train on 7714 samples, validate on 407 samples\n",
      "Epoch 1/50\n",
      "3s - loss: 1.4911 - acc: 0.3374 - val_loss: 1.9734 - val_acc: 0.2211\n",
      "Epoch 2/50\n",
      "2s - loss: 1.3001 - acc: 0.4938 - val_loss: 2.1972 - val_acc: 0.2187\n",
      "Epoch 3/50\n",
      "3s - loss: 1.1293 - acc: 0.5550 - val_loss: 2.0673 - val_acc: 0.2604\n",
      "Epoch 4/50\n",
      "2s - loss: 1.0754 - acc: 0.5727 - val_loss: 2.4119 - val_acc: 0.2482\n",
      "Epoch 5/50\n",
      "2s - loss: 1.0539 - acc: 0.5778 - val_loss: 2.4100 - val_acc: 0.2506\n",
      "Epoch 6/50\n",
      "2s - loss: 1.0365 - acc: 0.5856 - val_loss: 2.4071 - val_acc: 0.2555\n",
      "Epoch 7/50\n",
      "2s - loss: 1.0256 - acc: 0.5929 - val_loss: 2.4509 - val_acc: 0.2482\n",
      "Epoch 8/50\n",
      "2s - loss: 1.0147 - acc: 0.5984 - val_loss: 2.6645 - val_acc: 0.2555\n",
      "Epoch 9/50\n",
      "2s - loss: 1.0080 - acc: 0.6028 - val_loss: 2.6657 - val_acc: 0.2383\n",
      "Epoch 10/50\n",
      "2s - loss: 1.0000 - acc: 0.6093 - val_loss: 2.9648 - val_acc: 0.2457\n",
      "Epoch 11/50\n",
      "2s - loss: 0.9924 - acc: 0.6151 - val_loss: 2.9539 - val_acc: 0.2604\n",
      "Epoch 12/50\n",
      "2s - loss: 0.9858 - acc: 0.6184 - val_loss: 2.7272 - val_acc: 0.2654\n",
      "Epoch 13/50\n",
      "2s - loss: 0.9798 - acc: 0.6162 - val_loss: 2.8057 - val_acc: 0.2555\n",
      "Epoch 14/50\n",
      "2s - loss: 0.9748 - acc: 0.6239 - val_loss: 2.7691 - val_acc: 0.2727\n",
      "Epoch 15/50\n",
      "2s - loss: 0.9685 - acc: 0.6221 - val_loss: 3.2909 - val_acc: 0.2580\n",
      "Epoch 16/50\n",
      "2s - loss: 0.9588 - acc: 0.6257 - val_loss: 3.1647 - val_acc: 0.2727\n",
      "Epoch 17/50\n",
      "2s - loss: 0.9557 - acc: 0.6251 - val_loss: 3.0743 - val_acc: 0.2629\n",
      "Epoch 18/50\n",
      "2s - loss: 0.9504 - acc: 0.6287 - val_loss: 2.9893 - val_acc: 0.2654\n",
      "Epoch 19/50\n",
      "2s - loss: 0.9448 - acc: 0.6290 - val_loss: 3.0406 - val_acc: 0.2629\n",
      "Epoch 20/50\n",
      "2s - loss: 0.9353 - acc: 0.6396 - val_loss: 3.1935 - val_acc: 0.2678\n",
      "Epoch 21/50\n",
      "2s - loss: 0.9322 - acc: 0.6397 - val_loss: 3.0154 - val_acc: 0.2703\n",
      "Epoch 22/50\n",
      "2s - loss: 0.9263 - acc: 0.6422 - val_loss: 3.4583 - val_acc: 0.2506\n",
      "Epoch 23/50\n",
      "2s - loss: 0.9172 - acc: 0.6425 - val_loss: 3.0311 - val_acc: 0.2703\n",
      "Epoch 24/50\n",
      "2s - loss: 0.9109 - acc: 0.6496 - val_loss: 3.2325 - val_acc: 0.2727\n",
      "Epoch 25/50\n",
      "2s - loss: 0.9030 - acc: 0.6456 - val_loss: 3.2618 - val_acc: 0.2703\n",
      "Epoch 26/50\n",
      "2s - loss: 0.9023 - acc: 0.6499 - val_loss: 3.4108 - val_acc: 0.2727\n",
      "Epoch 27/50\n",
      "2s - loss: 0.8983 - acc: 0.6554 - val_loss: 3.6087 - val_acc: 0.2555\n",
      "Epoch 28/50\n",
      "2s - loss: 0.8906 - acc: 0.6558 - val_loss: 3.4185 - val_acc: 0.2899\n",
      "Epoch 29/50\n",
      "2s - loss: 0.8846 - acc: 0.6544 - val_loss: 3.1478 - val_acc: 0.2604\n",
      "Epoch 30/50\n",
      "2s - loss: 0.8806 - acc: 0.6623 - val_loss: 3.8131 - val_acc: 0.2604\n",
      "Epoch 31/50\n",
      "2s - loss: 0.8791 - acc: 0.6624 - val_loss: 3.5073 - val_acc: 0.2727\n",
      "Epoch 32/50\n",
      "2s - loss: 0.8732 - acc: 0.6658 - val_loss: 3.5849 - val_acc: 0.2604\n",
      "Epoch 33/50\n",
      "2s - loss: 0.8686 - acc: 0.6641 - val_loss: 3.7917 - val_acc: 0.2654\n",
      "Epoch 34/50\n",
      "2s - loss: 0.8627 - acc: 0.6698 - val_loss: 3.7230 - val_acc: 0.2703\n",
      "Epoch 35/50\n",
      "2s - loss: 0.8612 - acc: 0.6667 - val_loss: 3.1926 - val_acc: 0.2850\n",
      "Epoch 36/50\n",
      "2s - loss: 0.8606 - acc: 0.6670 - val_loss: 4.0707 - val_acc: 0.2752\n",
      "Epoch 37/50\n",
      "2s - loss: 0.8507 - acc: 0.6740 - val_loss: 3.7741 - val_acc: 0.2654\n",
      "Epoch 38/50\n",
      "2s - loss: 0.8515 - acc: 0.6694 - val_loss: 3.7437 - val_acc: 0.2899\n",
      "Epoch 39/50\n",
      "2s - loss: 0.8434 - acc: 0.6744 - val_loss: 3.7636 - val_acc: 0.2752\n",
      "Epoch 40/50\n",
      "2s - loss: 0.8414 - acc: 0.6759 - val_loss: 3.7618 - val_acc: 0.2924\n",
      "Epoch 41/50\n",
      "2s - loss: 0.8358 - acc: 0.6798 - val_loss: 3.9208 - val_acc: 0.2752\n",
      "Epoch 42/50\n",
      "2s - loss: 0.8326 - acc: 0.6790 - val_loss: 3.9910 - val_acc: 0.2555\n",
      "Epoch 43/50\n",
      "2s - loss: 0.8322 - acc: 0.6810 - val_loss: 3.9612 - val_acc: 0.2801\n",
      "Epoch 44/50\n",
      "2s - loss: 0.8260 - acc: 0.6833 - val_loss: 3.7822 - val_acc: 0.3268\n",
      "Epoch 45/50\n",
      "2s - loss: 0.8222 - acc: 0.6845 - val_loss: 4.0410 - val_acc: 0.3145\n",
      "Epoch 46/50\n",
      "2s - loss: 0.8175 - acc: 0.6899 - val_loss: 4.4102 - val_acc: 0.2850\n",
      "Epoch 47/50\n",
      "2s - loss: 0.8141 - acc: 0.6917 - val_loss: 4.0212 - val_acc: 0.2899\n",
      "Epoch 48/50\n",
      "2s - loss: 0.8048 - acc: 0.6917 - val_loss: 4.2231 - val_acc: 0.2875\n",
      "Epoch 49/50\n",
      "2s - loss: 0.8060 - acc: 0.6899 - val_loss: 4.2994 - val_acc: 0.2629\n",
      "Epoch 50/50\n",
      "2s - loss: 0.7989 - acc: 0.6932 - val_loss: 4.0239 - val_acc: 0.3317\n"
     ]
    }
   ],
   "source": [
    "train_history = model.fit(x=X_train_scaled, y=y_trainOneHot, validation_split=0.05,\n",
    "                          epochs=50, batch_size=10, verbose=2)"
   ]
  },
  {
   "cell_type": "code",
   "execution_count": 14,
   "metadata": {},
   "outputs": [],
   "source": [
    "def show_train_history(train_history,train,validation):\n",
    "    plt.plot(train_history.history[train])\n",
    "    plt.plot(train_history.history[validation])\n",
    "    plt.title('Train History')\n",
    "    plt.ylabel(train)\n",
    "    plt.xlabel('Epoch')\n",
    "    plt.legend(['train', 'validation'], loc='upper left')\n",
    "    plt.show()"
   ]
  },
  {
   "cell_type": "code",
   "execution_count": 15,
   "metadata": {},
   "outputs": [
    {
     "data": {
      "image/png": "[encoded data removed]",
      "text/plain": [
       "<Figure size 432x288 with 1 Axes>"
      ]
     },
     "metadata": {
      "needs_background": "light"
     },
     "output_type": "display_data"
    }
   ],
   "source": [
    "show_train_history(train_history, 'acc', 'val_acc')"
   ]
  },
  {
   "cell_type": "code",
   "execution_count": 16,
   "metadata": {},
   "outputs": [
    {
     "data": {
      "image/png": "[encoded data removed]",
      "text/plain": [
       "<Figure size 432x288 with 1 Axes>"
      ]
     },
     "metadata": {
      "needs_background": "light"
     },
     "output_type": "display_data"
    }
   ],
   "source": [
    "show_train_history(train_history, 'loss', 'val_loss')"
   ]
  },
  {
   "cell_type": "code",
   "execution_count": 17,
   "metadata": {},
   "outputs": [
    {
     "name": "stdout",
     "output_type": "stream",
     "text": [
      "6880/8121 [========================>.....] - ETA: 0s\n",
      "accuracy= 0.6813200344785125\n"
     ]
    }
   ],
   "source": [
    "scores = model.evaluate(X_train_scaled, y_trainOneHot)\n",
    "print()\n",
    "print('accuracy=',scores[1])"
   ]
  },
  {
   "cell_type": "code",
   "execution_count": 18,
   "metadata": {},
   "outputs": [
    {
     "name": "stdout",
     "output_type": "stream",
     "text": [
      "dataset shape (1834, 19)\n"
     ]
    },
    {
     "data": {
      "text/html": [
       "<div>\n",
       "<style scoped>\n",
       "    .dataframe tbody tr th:only-of-type {\n",
       "        vertical-align: middle;\n",
       "    }\n",
       "\n",
       "    .dataframe tbody tr th {\n",
       "        vertical-align: top;\n",
       "    }\n",
       "\n",
       "    .dataframe thead th {\n",
       "        text-align: right;\n",
       "    }\n",
       "</style>\n",
       "<table border=\"1\" class=\"dataframe\">\n",
       "  <thead>\n",
       "    <tr style=\"text-align: right;\">\n",
       "      <th></th>\n",
       "      <th>0</th>\n",
       "      <th>1</th>\n",
       "      <th>2</th>\n",
       "      <th>3</th>\n",
       "      <th>4</th>\n",
       "      <th>5</th>\n",
       "      <th>6</th>\n",
       "      <th>7</th>\n",
       "      <th>8</th>\n",
       "      <th>9</th>\n",
       "      <th>10</th>\n",
       "      <th>11</th>\n",
       "      <th>12</th>\n",
       "      <th>13</th>\n",
       "      <th>14</th>\n",
       "      <th>15</th>\n",
       "      <th>16</th>\n",
       "      <th>17</th>\n",
       "      <th>18</th>\n",
       "    </tr>\n",
       "  </thead>\n",
       "  <tbody>\n",
       "    <tr>\n",
       "      <th>0</th>\n",
       "      <td>2.287678</td>\n",
       "      <td>4.711127</td>\n",
       "      <td>2.226552</td>\n",
       "      <td>2.994055</td>\n",
       "      <td>4.464313</td>\n",
       "      <td>2.287253</td>\n",
       "      <td>2.373635</td>\n",
       "      <td>0.868547</td>\n",
       "      <td>2.406962</td>\n",
       "      <td>2.487050</td>\n",
       "      <td>3.476750</td>\n",
       "      <td>2.430243</td>\n",
       "      <td>1.946558</td>\n",
       "      <td>4.519551</td>\n",
       "      <td>2.247933</td>\n",
       "      <td>3.224442</td>\n",
       "      <td>4.237915</td>\n",
       "      <td>2.333757</td>\n",
       "      <td>1</td>\n",
       "    </tr>\n",
       "    <tr>\n",
       "      <th>1</th>\n",
       "      <td>2.287676</td>\n",
       "      <td>4.711183</td>\n",
       "      <td>2.226562</td>\n",
       "      <td>2.993737</td>\n",
       "      <td>4.464233</td>\n",
       "      <td>2.287362</td>\n",
       "      <td>2.373502</td>\n",
       "      <td>0.868628</td>\n",
       "      <td>2.406994</td>\n",
       "      <td>2.486847</td>\n",
       "      <td>3.476661</td>\n",
       "      <td>2.430296</td>\n",
       "      <td>1.946477</td>\n",
       "      <td>4.519677</td>\n",
       "      <td>2.247939</td>\n",
       "      <td>3.224355</td>\n",
       "      <td>4.237834</td>\n",
       "      <td>2.333824</td>\n",
       "      <td>1</td>\n",
       "    </tr>\n",
       "    <tr>\n",
       "      <th>2</th>\n",
       "      <td>2.287688</td>\n",
       "      <td>4.711247</td>\n",
       "      <td>2.226575</td>\n",
       "      <td>2.993438</td>\n",
       "      <td>4.464146</td>\n",
       "      <td>2.287472</td>\n",
       "      <td>2.373369</td>\n",
       "      <td>0.868708</td>\n",
       "      <td>2.407027</td>\n",
       "      <td>2.486685</td>\n",
       "      <td>3.476560</td>\n",
       "      <td>2.430351</td>\n",
       "      <td>1.946404</td>\n",
       "      <td>4.519819</td>\n",
       "      <td>2.247944</td>\n",
       "      <td>3.224269</td>\n",
       "      <td>4.237745</td>\n",
       "      <td>2.333894</td>\n",
       "      <td>1</td>\n",
       "    </tr>\n",
       "    <tr>\n",
       "      <th>3</th>\n",
       "      <td>2.287693</td>\n",
       "      <td>4.711304</td>\n",
       "      <td>2.226588</td>\n",
       "      <td>2.993355</td>\n",
       "      <td>4.463484</td>\n",
       "      <td>2.287634</td>\n",
       "      <td>2.373212</td>\n",
       "      <td>0.868756</td>\n",
       "      <td>2.407066</td>\n",
       "      <td>2.486516</td>\n",
       "      <td>3.476461</td>\n",
       "      <td>2.430404</td>\n",
       "      <td>1.946334</td>\n",
       "      <td>4.519930</td>\n",
       "      <td>2.247949</td>\n",
       "      <td>3.224345</td>\n",
       "      <td>4.236684</td>\n",
       "      <td>2.334085</td>\n",
       "      <td>1</td>\n",
       "    </tr>\n",
       "    <tr>\n",
       "      <th>4</th>\n",
       "      <td>2.287505</td>\n",
       "      <td>4.711247</td>\n",
       "      <td>2.226628</td>\n",
       "      <td>2.993353</td>\n",
       "      <td>4.462631</td>\n",
       "      <td>2.287822</td>\n",
       "      <td>2.373061</td>\n",
       "      <td>0.868795</td>\n",
       "      <td>2.407109</td>\n",
       "      <td>2.486380</td>\n",
       "      <td>3.476376</td>\n",
       "      <td>2.430454</td>\n",
       "      <td>1.945997</td>\n",
       "      <td>4.519935</td>\n",
       "      <td>2.247983</td>\n",
       "      <td>3.224512</td>\n",
       "      <td>4.235344</td>\n",
       "      <td>2.334303</td>\n",
       "      <td>1</td>\n",
       "    </tr>\n",
       "  </tbody>\n",
       "</table>\n",
       "</div>"
      ],
      "text/plain": [
       "         0         1         2         3         4         5         6   \\\n",
       "0  2.287678  4.711127  2.226552  2.994055  4.464313  2.287253  2.373635   \n",
       "1  2.287676  4.711183  2.226562  2.993737  4.464233  2.287362  2.373502   \n",
       "2  2.287688  4.711247  2.226575  2.993438  4.464146  2.287472  2.373369   \n",
       "3  2.287693  4.711304  2.226588  2.993355  4.463484  2.287634  2.373212   \n",
       "4  2.287505  4.711247  2.226628  2.993353  4.462631  2.287822  2.373061   \n",
       "\n",
       "         7         8         9         10        11        12        13  \\\n",
       "0  0.868547  2.406962  2.487050  3.476750  2.430243  1.946558  4.519551   \n",
       "1  0.868628  2.406994  2.486847  3.476661  2.430296  1.946477  4.519677   \n",
       "2  0.868708  2.407027  2.486685  3.476560  2.430351  1.946404  4.519819   \n",
       "3  0.868756  2.407066  2.486516  3.476461  2.430404  1.946334  4.519930   \n",
       "4  0.868795  2.407109  2.486380  3.476376  2.430454  1.945997  4.519935   \n",
       "\n",
       "         14        15        16        17  18  \n",
       "0  2.247933  3.224442  4.237915  2.333757   1  \n",
       "1  2.247939  3.224355  4.237834  2.333824   1  \n",
       "2  2.247944  3.224269  4.237745  2.333894   1  \n",
       "3  2.247949  3.224345  4.236684  2.334085   1  \n",
       "4  2.247983  3.224512  4.235344  2.334303   1  "
      ]
     },
     "execution_count": 18,
     "metadata": {},
     "output_type": "execute_result"
    }
   ],
   "source": [
    "test = pd.read_csv('testing_set.csv', header=None, sep=',')\n",
    "print('dataset shape {}'.format(test.shape))\n",
    "test.head()"
   ]
  },
  {
   "cell_type": "code",
   "execution_count": 19,
   "metadata": {},
   "outputs": [
    {
     "name": "stdout",
     "output_type": "stream",
     "text": [
      "shape of X (1834, 18); shape of y (1834,)\n"
     ]
    },
    {
     "data": {
      "image/png": "[encoded data removed]",
      "text/plain": [
       "<Figure size 432x288 with 1 Axes>"
      ]
     },
     "metadata": {
      "needs_background": "light"
     },
     "output_type": "display_data"
    },
    {
     "name": "stdout",
     "output_type": "stream",
     "text": [
      "1    662\n",
      "3    535\n",
      "2    279\n",
      "5    208\n",
      "4    150\n",
      "Name: 18, dtype: int64\n"
     ]
    }
   ],
   "source": [
    "X_test = test.iloc[:, 0:18]\n",
    "y_test = test.iloc[:, 18]\n",
    "print('shape of X {}; shape of y {}'.format(X_test.shape, y_test.shape))\n",
    "\n",
    "# 绘制计数直方图\n",
    "sns.countplot(y_test)\n",
    "plt.show()\n",
    "# 使用pd.Series.value_counts()\n",
    "print(y_test.value_counts())"
   ]
  },
  {
   "cell_type": "code",
   "execution_count": 20,
   "metadata": {},
   "outputs": [],
   "source": [
    "X_test_scaled = scaler.transform(X_test)"
   ]
  },
  {
   "cell_type": "code",
   "execution_count": 21,
   "metadata": {},
   "outputs": [
    {
     "data": {
      "text/plain": [
       "array([[-0.28836459,  0.39139532,  0.17911624, -0.66630972,  0.37911281,\n",
       "         0.34815302, -0.87230726, -1.0875461 ,  0.43279882, -0.91768708,\n",
       "        -1.61309962,  0.38688639, -0.3669948 ,  0.37806649,  0.18088929,\n",
       "        -0.65648463,  0.35668088,  0.42331583],\n",
       "       [-0.28836521,  0.39142086,  0.17912754, -0.66640515,  0.37908415,\n",
       "         0.34828357, -0.87237054, -1.08750232,  0.43285196, -0.91779768,\n",
       "        -1.61325387,  0.38698644, -0.36702156,  0.37813415,  0.18089636,\n",
       "        -0.65651322,  0.35664789,  0.42340045],\n",
       "       [-0.28836147,  0.39145005,  0.17914223, -0.66649487,  0.37905299,\n",
       "         0.34841532, -0.87243383, -1.08745929,  0.43290676, -0.91788594,\n",
       "        -1.61342891,  0.38709026, -0.36704568,  0.37821039,  0.18090225,\n",
       "        -0.65654148,  0.35661164,  0.42348886],\n",
       "       [-0.28835992,  0.39147605,  0.17915692, -0.66651978,  0.37881588,\n",
       "         0.34860936, -0.87250854, -1.08743318,  0.43297152, -0.91797802,\n",
       "        -1.61360048,  0.3871903 , -0.36706881,  0.37826999,  0.18090814,\n",
       "        -0.6565165 ,  0.35617955,  0.4237301 ],\n",
       "       [-0.2884184 ,  0.39145005,  0.17920213, -0.66652038,  0.37851035,\n",
       "         0.34883454, -0.87258039, -1.0874121 ,  0.43304292, -0.91805211,\n",
       "        -1.61374779,  0.38728469, -0.36718017,  0.37827268,  0.18094819,\n",
       "        -0.65646164,  0.35563383,  0.42400544]])"
      ]
     },
     "execution_count": 21,
     "metadata": {},
     "output_type": "execute_result"
    }
   ],
   "source": [
    "X_test_scaled[:5]"
   ]
  },
  {
   "cell_type": "code",
   "execution_count": 22,
   "metadata": {},
   "outputs": [],
   "source": [
    "y_testOneHot = np_utils.to_categorical(y_test)"
   ]
  },
  {
   "cell_type": "code",
   "execution_count": 23,
   "metadata": {},
   "outputs": [
    {
     "name": "stdout",
     "output_type": "stream",
     "text": [
      "1184/1834 [==================>...........] - ETA: 0s\n",
      "accuracy= 0.4291166848418757\n"
     ]
    }
   ],
   "source": [
    "test_scores = model.evaluate(X_test_scaled, y_testOneHot)\n",
    "print()\n",
    "print('accuracy=', test_scores[1])"
   ]
  },
  {
   "cell_type": "code",
   "execution_count": null,
   "metadata": {},
   "outputs": [],
   "source": []
  },
  {
   "cell_type": "code",
   "execution_count": null,
   "metadata": {},
   "outputs": [],
   "source": []
  },
  {
   "cell_type": "code",
   "execution_count": null,
   "metadata": {},
   "outputs": [],
   "source": []
  },
  {
   "cell_type": "code",
   "execution_count": null,
   "metadata": {},
   "outputs": [],
   "source": []
  }
 ],
 "metadata": {
  "kernelspec": {
   "display_name": "Python 3",
   "language": "python",
   "name": "python3"
  },
  "language_info": {
   "codemirror_mode": {
    "name": "ipython",
    "version": 3
   },
   "file_extension": ".py",
   "mimetype": "text/x-python",
   "name": "python",
   "nbconvert_exporter": "python",
   "pygments_lexer": "ipython3",
   "version": "3.6.6"
  }
 },
 "nbformat": 4,
 "nbformat_minor": 2
}
